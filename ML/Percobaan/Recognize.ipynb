{
 "cells": [
  {
   "cell_type": "code",
   "execution_count": 1,
   "metadata": {},
   "outputs": [],
   "source": [
    "from PIL import Image\n",
    "from keras_facenet import FaceNet\n",
    "from keras.models import load_model\n",
    "import numpy as np\n",
    "from numpy import asarray\n",
    "from numpy import expand_dims\n",
    "\n",
    "import pickle\n",
    "import cv2"
   ]
  },
  {
   "cell_type": "code",
   "execution_count": 2,
   "metadata": {},
   "outputs": [
    {
     "name": "stdout",
     "output_type": "stream",
     "text": [
      "WARNING:tensorflow:From c:\\Users\\Luis R\\mytest\\Lib\\site-packages\\keras\\src\\backend\\tensorflow\\core.py:184: The name tf.placeholder is deprecated. Please use tf.compat.v1.placeholder instead.\n",
      "\n"
     ]
    }
   ],
   "source": [
    "HaarCascade = cv2.CascadeClassifier(cv2.samples.findFile(cv2.data.haarcascades + 'haarcascade_frontalface_default.xml'))\n",
    "MyFaceNet = FaceNet()"
   ]
  },
  {
   "cell_type": "code",
   "execution_count": 3,
   "metadata": {},
   "outputs": [],
   "source": [
    "# Load the database from the pickle file\n",
    "with open(\"data.pkl\", \"rb\") as myfile:\n",
    "    database = pickle.load(myfile)"
   ]
  },
  {
   "cell_type": "code",
   "execution_count": 4,
   "metadata": {},
   "outputs": [
    {
     "name": "stdout",
     "output_type": "stream",
     "text": [
      "Tekan 's' untuk mengambil foto, dan 'q' untuk keluar.\n",
      "\u001b[1m1/1\u001b[0m \u001b[32m━━━━━━━━━━━━━━━━━━━━\u001b[0m\u001b[37m\u001b[0m \u001b[1m2s\u001b[0m 2s/step\n",
      "Predicted: Nico\n",
      "\u001b[1m1/1\u001b[0m \u001b[32m━━━━━━━━━━━━━━━━━━━━\u001b[0m\u001b[37m\u001b[0m \u001b[1m0s\u001b[0m 50ms/step\n",
      "Predicted: Luis\n",
      "\u001b[1m1/1\u001b[0m \u001b[32m━━━━━━━━━━━━━━━━━━━━\u001b[0m\u001b[37m\u001b[0m \u001b[1m0s\u001b[0m 50ms/step\n",
      "Predicted: Nico\n",
      "\u001b[1m1/1\u001b[0m \u001b[32m━━━━━━━━━━━━━━━━━━━━\u001b[0m\u001b[37m\u001b[0m \u001b[1m0s\u001b[0m 52ms/step\n",
      "Predicted: Luis\n",
      "\u001b[1m1/1\u001b[0m \u001b[32m━━━━━━━━━━━━━━━━━━━━\u001b[0m\u001b[37m\u001b[0m \u001b[1m0s\u001b[0m 50ms/step\n",
      "Predicted: Luis\n"
     ]
    }
   ],
   "source": [
    "# Initialize the video capture\n",
    "cap = cv2.VideoCapture(0)\n",
    "\n",
    "if not cap.isOpened():\n",
    "    print(\"Error: Could not open webcam.\")\n",
    "    exit()\n",
    "\n",
    "print(\"Tekan 's' untuk mengambil foto, dan 'q' untuk keluar.\")\n",
    "\n",
    "while True:\n",
    "    # Read frame \n",
    "    ret, frame = cap.read()\n",
    "    \n",
    "    if not ret:\n",
    "        print(\"Error: Failed to capture image\")\n",
    "        break\n",
    "    \n",
    "    # Shows frame\n",
    "    cv2.imshow('Webcam', frame)\n",
    "    \n",
    "    # Press 's' to take a picture\n",
    "    key = cv2.waitKey(1) & 0xFF\n",
    "    if key == ord('s'):\n",
    "        # Process the picture\n",
    "        processed_image = cv2.cvtColor(frame, cv2.COLOR_BGR2RGB)  # Convert picture's color from BGR to RGB\n",
    "        processed_image = Image.fromarray(processed_image)       # Convert array NumPy to PIL object\n",
    "        processed_image = processed_image.resize((160, 160))     # Resize picture\n",
    "        processed_image = np.asarray(processed_image)            # Convert back to NumPy array\n",
    "        \n",
    "        # Get the picture embedding\n",
    "        embeddings = MyFaceNet.embeddings(expand_dims(processed_image, axis=0))\n",
    "        \n",
    "        # Calculate the closest distance between picture's embedding and database embeddings\n",
    "        min_dist = float('inf')\n",
    "        identity = None\n",
    "        for key, value in database.items():\n",
    "            dist = np.linalg.norm(value - embeddings)\n",
    "            if dist < min_dist:\n",
    "                min_dist = dist\n",
    "                identity = key\n",
    "        \n",
    "        # Shows the prediction output\n",
    "        print(f'Predicted: {identity}')\n",
    "        cv2.putText(frame, f'Predicted: {identity}', (10, 30), cv2.FONT_HERSHEY_SIMPLEX, 1, (255, 0, 0), 2)\n",
    "        cv2.imshow('Webcam', frame)\n",
    "        \n",
    "    # Press 'q' to quit\n",
    "    if key == ord('q'):\n",
    "        break\n",
    "\n",
    "# Close the window and frame\n",
    "cap.release()\n",
    "cv2.destroyAllWindows()"
   ]
  }
 ],
 "metadata": {
  "kernelspec": {
   "display_name": "mytest",
   "language": "python",
   "name": "python3"
  },
  "language_info": {
   "codemirror_mode": {
    "name": "ipython",
    "version": 3
   },
   "file_extension": ".py",
   "mimetype": "text/x-python",
   "name": "python",
   "nbconvert_exporter": "python",
   "pygments_lexer": "ipython3",
   "version": "3.11.1"
  }
 },
 "nbformat": 4,
 "nbformat_minor": 2
}
