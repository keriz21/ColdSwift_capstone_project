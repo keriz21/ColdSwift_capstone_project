%pip install tensorflow==2.4.1 
%pip install tensorflow-gpu==2.4.1 
%pip install opencv-python 
%pip install matplotlib





!python --version





#import yang idbutuhkan 
import cv2
import os
import random
import numpy as np
from matplotlib import pyplot as plt


from tensorflow.keras.models import Model
from tensorflow.keras.layers import Layer, Conv2D, Dense, MaxPooling2D, Input, Flatten
import tensorflow as tf


tf.__version__





# avoid oom error by setting gpu memory consumption growth
gpus = tf.config.experimental.list_physical_devices('GPU')
for gpu in gpus:
    tf.config.experimental.set_memory_growth(gpu, True)
    print(gpu)


len(gpus)
